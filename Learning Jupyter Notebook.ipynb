{
 "cells": [
  {
   "cell_type": "markdown",
   "id": "e93ebabf-3b15-4354-8589-4f1c6fb432b0",
   "metadata": {},
   "source": [
    "# OMG\n",
    "## This\n",
    "### Is\n",
    "#### A Title\n",
    "**Bold**\n",
    "*Italic*"
   ]
  },
  {
   "cell_type": "markdown",
   "id": "f39f9ac0-0d25-4358-b740-1431351b6573",
   "metadata": {},
   "source": [
    "[This is a link](instagram.com)"
   ]
  },
  {
   "cell_type": "markdown",
   "id": "39972b4f-9862-431d-a807-f6c8ff865e38",
   "metadata": {},
   "source": [
    "Damn look at this pic:\n",
    "![Here it is](https://pbs.twimg.com/media/GjVX-6bbEAEoNGL?format=jpg&name=medium)"
   ]
  },
  {
   "cell_type": "markdown",
   "id": "62daac26-70f3-4309-abe4-4fe8d6ea2975",
   "metadata": {},
   "source": [
    "|Title 1|Second one\n",
    "|---------|----|\n",
    "|Wow|Damn|\n",
    "|God|Damn|"
   ]
  },
  {
   "cell_type": "markdown",
   "id": "9db6e9d4-5f55-48e4-a9b7-df833a86ece6",
   "metadata": {},
   "source": [
    "- wow\n",
    "- this\n",
    "- is\n",
    "- a\n",
    "- list"
   ]
  },
  {
   "cell_type": "markdown",
   "id": "79f87a67-0a35-44e4-bf7f-260a82b081e5",
   "metadata": {},
   "source": [
    "1. first\n",
    "2. second\n",
    "3. third"
   ]
  }
 ],
 "metadata": {
  "kernelspec": {
   "display_name": "Python [conda env:base] *",
   "language": "python",
   "name": "conda-base-py"
  },
  "language_info": {
   "codemirror_mode": {
    "name": "ipython",
    "version": 3
   },
   "file_extension": ".py",
   "mimetype": "text/x-python",
   "name": "python",
   "nbconvert_exporter": "python",
   "pygments_lexer": "ipython3",
   "version": "3.12.7"
  }
 },
 "nbformat": 4,
 "nbformat_minor": 5
}
