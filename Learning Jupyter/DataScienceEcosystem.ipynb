{
 "cells": [
  {
   "cell_type": "markdown",
   "id": "71c05b72-392d-44b9-9f13-d1459f545cde",
   "metadata": {},
   "source": [
    "# Data Science Tools and Ecosystem"
   ]
  },
  {
   "cell_type": "markdown",
   "id": "ae5502b0-4d79-4e8f-b042-61367f90941d",
   "metadata": {},
   "source": [
    "In this notebook, Data Science Tools and Ecosystem are summarized."
   ]
  },
  {
   "cell_type": "markdown",
   "id": "930df44b-f59a-4901-a431-6ca9eec6d9fb",
   "metadata": {},
   "source": [
    "Some of the popular languages that Data Scientists use are:\n",
    "1. Python\n",
    "2. R\n",
    "3. SQL"
   ]
  },
  {
   "cell_type": "markdown",
   "id": "fc854891-e8a2-42d2-ab80-2594d85bb101",
   "metadata": {},
   "source": [
    "Some of the commonly used libraries used by Data Scientists include:\n",
    "1. numpy\n",
    "2. ggplot2\n",
    "3. Ggally"
   ]
  },
  {
   "cell_type": "markdown",
   "id": "6050c52f-bebe-4f16-a58f-a5fd73167997",
   "metadata": {},
   "source": [
    "|Data Science Tools|\n",
    "|----|\n",
    "|Jupyter|\n",
    "|RStudio|\n",
    "|VS Code|"
   ]
  },
  {
   "cell_type": "markdown",
   "id": "e61bf028-ff15-4fb3-a0f2-f29f556b6935",
   "metadata": {},
   "source": [
    "### Below are a few examples of evaluating arithmetic expressions in Python. "
   ]
  },
  {
   "cell_type": "code",
   "execution_count": 16,
   "id": "4d0c7397-cbfd-4d82-bbd7-763aca73ca3c",
   "metadata": {},
   "outputs": [
    {
     "data": {
      "text/plain": [
       "17"
      ]
     },
     "execution_count": 16,
     "metadata": {},
     "output_type": "execute_result"
    }
   ],
   "source": [
    "# This is a simple arithmetic expression to multiply and add integers.\n",
    "(3*4)+5"
   ]
  },
  {
   "cell_type": "code",
   "execution_count": 24,
   "id": "10319d33-c516-4ad9-9724-0dcf3ac1175c",
   "metadata": {},
   "outputs": [
    {
     "data": {
      "text/plain": [
       "3.3333333333333335"
      ]
     },
     "execution_count": 24,
     "metadata": {},
     "output_type": "execute_result"
    }
   ],
   "source": [
    "# This will convert 200 minutes to hours by diving by 60.\n",
    "200/60"
   ]
  },
  {
   "cell_type": "markdown",
   "id": "6ff55187-270e-4150-b957-d87d25353ec7",
   "metadata": {},
   "source": [
    "**Objectives:**\n",
    "- Make an ordered list in markdown cells\n",
    "- Run a basic calculation in code\n",
    "- Add comment line inside code\n",
    "- Make titles in markdown cells\n",
    "- Make unordered list in markdown cells"
   ]
  },
  {
   "cell_type": "markdown",
   "id": "c5b31d42-1a5d-443f-81de-5981a6046cb1",
   "metadata": {},
   "source": [
    "## Author\n",
    "Egemen Nas"
   ]
  }
 ],
 "metadata": {
  "kernelspec": {
   "display_name": "Python [conda env:base] *",
   "language": "python",
   "name": "conda-base-py"
  },
  "language_info": {
   "codemirror_mode": {
    "name": "ipython",
    "version": 3
   },
   "file_extension": ".py",
   "mimetype": "text/x-python",
   "name": "python",
   "nbconvert_exporter": "python",
   "pygments_lexer": "ipython3",
   "version": "3.12.7"
  }
 },
 "nbformat": 4,
 "nbformat_minor": 5
}
